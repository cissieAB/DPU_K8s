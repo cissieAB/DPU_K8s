{
 "cells": [
  {
   "cell_type": "markdown",
   "metadata": {
    "tags": []
   },
   "source": [
    "# Hello, FABRIC: Create your first FABRIC slice\n"
   ]
  },
  {
   "cell_type": "markdown",
   "metadata": {
    "tags": []
   },
   "source": [
    "## Setup the Experiment\n",
    "\n",
    "#### Import the FABRIC API"
   ]
  },
  {
   "cell_type": "code",
   "execution_count": 1,
   "metadata": {
    "scrolled": true,
    "tags": []
   },
   "outputs": [
    {
     "data": {
      "text/html": [
       "<style type=\"text/css\">\n",
       "#T_5152e tr:nth-child(even) {\n",
       "  background: #dbf3ff;\n",
       "  color: #231f20;\n",
       "}\n",
       "#T_5152e tr:nth-child(odd) {\n",
       "  background: #ffffff;\n",
       "  color: #231f20;\n",
       "}\n",
       "#T_5152e caption {\n",
       "  text-align: center;\n",
       "  font-size: 150%;\n",
       "}\n",
       "#T_5152e_row0_col0, #T_5152e_row0_col1, #T_5152e_row1_col0, #T_5152e_row1_col1, #T_5152e_row2_col0, #T_5152e_row2_col1, #T_5152e_row3_col0, #T_5152e_row3_col1, #T_5152e_row4_col0, #T_5152e_row4_col1, #T_5152e_row5_col0, #T_5152e_row5_col1, #T_5152e_row6_col0, #T_5152e_row6_col1, #T_5152e_row7_col0, #T_5152e_row7_col1, #T_5152e_row8_col0, #T_5152e_row8_col1, #T_5152e_row9_col0, #T_5152e_row9_col1, #T_5152e_row10_col0, #T_5152e_row10_col1, #T_5152e_row11_col0, #T_5152e_row11_col1, #T_5152e_row12_col0, #T_5152e_row12_col1, #T_5152e_row13_col0, #T_5152e_row13_col1, #T_5152e_row14_col0, #T_5152e_row14_col1, #T_5152e_row15_col0, #T_5152e_row15_col1, #T_5152e_row16_col0, #T_5152e_row16_col1, #T_5152e_row17_col0, #T_5152e_row17_col1, #T_5152e_row18_col0, #T_5152e_row18_col1 {\n",
       "  text-align: left;\n",
       "  border: 1px #231f20 solid !important;\n",
       "  overwrite: False;\n",
       "}\n",
       "</style>\n",
       "<table id=\"T_5152e\">\n",
       "  <caption>FABlib Config</caption>\n",
       "  <thead>\n",
       "  </thead>\n",
       "  <tbody>\n",
       "    <tr>\n",
       "      <td id=\"T_5152e_row0_col0\" class=\"data row0 col0\" >Credential Manager</td>\n",
       "      <td id=\"T_5152e_row0_col1\" class=\"data row0 col1\" >cm.fabric-testbed.net</td>\n",
       "    </tr>\n",
       "    <tr>\n",
       "      <td id=\"T_5152e_row1_col0\" class=\"data row1 col0\" >Orchestrator</td>\n",
       "      <td id=\"T_5152e_row1_col1\" class=\"data row1 col1\" >orchestrator.fabric-testbed.net</td>\n",
       "    </tr>\n",
       "    <tr>\n",
       "      <td id=\"T_5152e_row2_col0\" class=\"data row2 col0\" >Token File</td>\n",
       "      <td id=\"T_5152e_row2_col1\" class=\"data row2 col1\" >/Users/xinxinmei/.ssh/fabric_token.json</td>\n",
       "    </tr>\n",
       "    <tr>\n",
       "      <td id=\"T_5152e_row3_col0\" class=\"data row3 col0\" >Project ID</td>\n",
       "      <td id=\"T_5152e_row3_col1\" class=\"data row3 col1\" >bbe0d94c-736b-477a-a2e6-fef9fe7ac9ca</td>\n",
       "    </tr>\n",
       "    <tr>\n",
       "      <td id=\"T_5152e_row4_col0\" class=\"data row4 col0\" >Bastion Host</td>\n",
       "      <td id=\"T_5152e_row4_col1\" class=\"data row4 col1\" >bastion.fabric-testbed.net</td>\n",
       "    </tr>\n",
       "    <tr>\n",
       "      <td id=\"T_5152e_row5_col0\" class=\"data row5 col0\" >Bastion Username</td>\n",
       "      <td id=\"T_5152e_row5_col1\" class=\"data row5 col1\" >xmei_0000124604</td>\n",
       "    </tr>\n",
       "    <tr>\n",
       "      <td id=\"T_5152e_row6_col0\" class=\"data row6 col0\" >Bastion Private Key File</td>\n",
       "      <td id=\"T_5152e_row6_col1\" class=\"data row6 col1\" >/Users/xinxinmei/.ssh/fabric-bastion-key</td>\n",
       "    </tr>\n",
       "    <tr>\n",
       "      <td id=\"T_5152e_row7_col0\" class=\"data row7 col0\" >Slice Public Key File</td>\n",
       "      <td id=\"T_5152e_row7_col1\" class=\"data row7 col1\" >/Users/xinxinmei/.ssh/slice_key.pub</td>\n",
       "    </tr>\n",
       "    <tr>\n",
       "      <td id=\"T_5152e_row8_col0\" class=\"data row8 col0\" >Slice Private Key File</td>\n",
       "      <td id=\"T_5152e_row8_col1\" class=\"data row8 col1\" >/Users/xinxinmei/.ssh/slice_key</td>\n",
       "    </tr>\n",
       "    <tr>\n",
       "      <td id=\"T_5152e_row9_col0\" class=\"data row9 col0\" >Sites to avoid</td>\n",
       "      <td id=\"T_5152e_row9_col1\" class=\"data row9 col1\" ></td>\n",
       "    </tr>\n",
       "    <tr>\n",
       "      <td id=\"T_5152e_row10_col0\" class=\"data row10 col0\" >SSH Command Line</td>\n",
       "      <td id=\"T_5152e_row10_col1\" class=\"data row10 col1\" >ssh -i {{ _self_.private_ssh_key_file }} -F /Users/xinxinmei/.ssh/fabric_config {{ _self_.username }}@{{ _self_.management_ip }}</td>\n",
       "    </tr>\n",
       "    <tr>\n",
       "      <td id=\"T_5152e_row11_col0\" class=\"data row11 col0\" >Log Level</td>\n",
       "      <td id=\"T_5152e_row11_col1\" class=\"data row11 col1\" >INFO</td>\n",
       "    </tr>\n",
       "    <tr>\n",
       "      <td id=\"T_5152e_row12_col0\" class=\"data row12 col0\" >Log File</td>\n",
       "      <td id=\"T_5152e_row12_col1\" class=\"data row12 col1\" >/tmp/fablib/fablib.log</td>\n",
       "    </tr>\n",
       "    <tr>\n",
       "      <td id=\"T_5152e_row13_col0\" class=\"data row13 col0\" >Bastion SSH Config File</td>\n",
       "      <td id=\"T_5152e_row13_col1\" class=\"data row13 col1\" >/Users/xinxinmei/.ssh/fabric_config</td>\n",
       "    </tr>\n",
       "    <tr>\n",
       "      <td id=\"T_5152e_row14_col0\" class=\"data row14 col0\" >Version</td>\n",
       "      <td id=\"T_5152e_row14_col1\" class=\"data row14 col1\" >1.8.1</td>\n",
       "    </tr>\n",
       "    <tr>\n",
       "      <td id=\"T_5152e_row15_col0\" class=\"data row15 col0\" >Data directory</td>\n",
       "      <td id=\"T_5152e_row15_col1\" class=\"data row15 col1\" >/tmp/fablib</td>\n",
       "    </tr>\n",
       "    <tr>\n",
       "      <td id=\"T_5152e_row16_col0\" class=\"data row16 col0\" >Core API</td>\n",
       "      <td id=\"T_5152e_row16_col1\" class=\"data row16 col1\" >uis.fabric-testbed.net</td>\n",
       "    </tr>\n",
       "    <tr>\n",
       "      <td id=\"T_5152e_row17_col0\" class=\"data row17 col0\" >Artifact Manager</td>\n",
       "      <td id=\"T_5152e_row17_col1\" class=\"data row17 col1\" >artifacts.fabric-testbed.net</td>\n",
       "    </tr>\n",
       "    <tr>\n",
       "      <td id=\"T_5152e_row18_col0\" class=\"data row18 col0\" >Project Name</td>\n",
       "      <td id=\"T_5152e_row18_col1\" class=\"data row18 col1\" >EJFAT</td>\n",
       "    </tr>\n",
       "  </tbody>\n",
       "</table>\n"
      ],
      "text/plain": [
       "<pandas.io.formats.style.Styler at 0x1139d57c0>"
      ]
     },
     "metadata": {},
     "output_type": "display_data"
    },
    {
     "data": {
      "text/html": [
       "<style type=\"text/css\">\n",
       "#T_5152e tr:nth-child(even) {\n",
       "  background: #dbf3ff;\n",
       "  color: #231f20;\n",
       "}\n",
       "#T_5152e tr:nth-child(odd) {\n",
       "  background: #ffffff;\n",
       "  color: #231f20;\n",
       "}\n",
       "#T_5152e caption {\n",
       "  text-align: center;\n",
       "  font-size: 150%;\n",
       "}\n",
       "#T_5152e_row0_col0, #T_5152e_row0_col1, #T_5152e_row1_col0, #T_5152e_row1_col1, #T_5152e_row2_col0, #T_5152e_row2_col1, #T_5152e_row3_col0, #T_5152e_row3_col1, #T_5152e_row4_col0, #T_5152e_row4_col1, #T_5152e_row5_col0, #T_5152e_row5_col1, #T_5152e_row6_col0, #T_5152e_row6_col1, #T_5152e_row7_col0, #T_5152e_row7_col1, #T_5152e_row8_col0, #T_5152e_row8_col1, #T_5152e_row9_col0, #T_5152e_row9_col1, #T_5152e_row10_col0, #T_5152e_row10_col1, #T_5152e_row11_col0, #T_5152e_row11_col1, #T_5152e_row12_col0, #T_5152e_row12_col1, #T_5152e_row13_col0, #T_5152e_row13_col1, #T_5152e_row14_col0, #T_5152e_row14_col1, #T_5152e_row15_col0, #T_5152e_row15_col1, #T_5152e_row16_col0, #T_5152e_row16_col1, #T_5152e_row17_col0, #T_5152e_row17_col1, #T_5152e_row18_col0, #T_5152e_row18_col1 {\n",
       "  text-align: left;\n",
       "  border: 1px #231f20 solid !important;\n",
       "  overwrite: False;\n",
       "}\n",
       "</style>\n",
       "<table id=\"T_5152e\">\n",
       "  <caption>FABlib Config</caption>\n",
       "  <thead>\n",
       "  </thead>\n",
       "  <tbody>\n",
       "    <tr>\n",
       "      <td id=\"T_5152e_row0_col0\" class=\"data row0 col0\" >Credential Manager</td>\n",
       "      <td id=\"T_5152e_row0_col1\" class=\"data row0 col1\" >cm.fabric-testbed.net</td>\n",
       "    </tr>\n",
       "    <tr>\n",
       "      <td id=\"T_5152e_row1_col0\" class=\"data row1 col0\" >Orchestrator</td>\n",
       "      <td id=\"T_5152e_row1_col1\" class=\"data row1 col1\" >orchestrator.fabric-testbed.net</td>\n",
       "    </tr>\n",
       "    <tr>\n",
       "      <td id=\"T_5152e_row2_col0\" class=\"data row2 col0\" >Token File</td>\n",
       "      <td id=\"T_5152e_row2_col1\" class=\"data row2 col1\" >/Users/xinxinmei/.ssh/fabric_token.json</td>\n",
       "    </tr>\n",
       "    <tr>\n",
       "      <td id=\"T_5152e_row3_col0\" class=\"data row3 col0\" >Project ID</td>\n",
       "      <td id=\"T_5152e_row3_col1\" class=\"data row3 col1\" >bbe0d94c-736b-477a-a2e6-fef9fe7ac9ca</td>\n",
       "    </tr>\n",
       "    <tr>\n",
       "      <td id=\"T_5152e_row4_col0\" class=\"data row4 col0\" >Bastion Host</td>\n",
       "      <td id=\"T_5152e_row4_col1\" class=\"data row4 col1\" >bastion.fabric-testbed.net</td>\n",
       "    </tr>\n",
       "    <tr>\n",
       "      <td id=\"T_5152e_row5_col0\" class=\"data row5 col0\" >Bastion Username</td>\n",
       "      <td id=\"T_5152e_row5_col1\" class=\"data row5 col1\" >xmei_0000124604</td>\n",
       "    </tr>\n",
       "    <tr>\n",
       "      <td id=\"T_5152e_row6_col0\" class=\"data row6 col0\" >Bastion Private Key File</td>\n",
       "      <td id=\"T_5152e_row6_col1\" class=\"data row6 col1\" >/Users/xinxinmei/.ssh/fabric-bastion-key</td>\n",
       "    </tr>\n",
       "    <tr>\n",
       "      <td id=\"T_5152e_row7_col0\" class=\"data row7 col0\" >Slice Public Key File</td>\n",
       "      <td id=\"T_5152e_row7_col1\" class=\"data row7 col1\" >/Users/xinxinmei/.ssh/slice_key.pub</td>\n",
       "    </tr>\n",
       "    <tr>\n",
       "      <td id=\"T_5152e_row8_col0\" class=\"data row8 col0\" >Slice Private Key File</td>\n",
       "      <td id=\"T_5152e_row8_col1\" class=\"data row8 col1\" >/Users/xinxinmei/.ssh/slice_key</td>\n",
       "    </tr>\n",
       "    <tr>\n",
       "      <td id=\"T_5152e_row9_col0\" class=\"data row9 col0\" >Sites to avoid</td>\n",
       "      <td id=\"T_5152e_row9_col1\" class=\"data row9 col1\" ></td>\n",
       "    </tr>\n",
       "    <tr>\n",
       "      <td id=\"T_5152e_row10_col0\" class=\"data row10 col0\" >SSH Command Line</td>\n",
       "      <td id=\"T_5152e_row10_col1\" class=\"data row10 col1\" >ssh -i {{ _self_.private_ssh_key_file }} -F /Users/xinxinmei/.ssh/fabric_config {{ _self_.username }}@{{ _self_.management_ip }}</td>\n",
       "    </tr>\n",
       "    <tr>\n",
       "      <td id=\"T_5152e_row11_col0\" class=\"data row11 col0\" >Log Level</td>\n",
       "      <td id=\"T_5152e_row11_col1\" class=\"data row11 col1\" >INFO</td>\n",
       "    </tr>\n",
       "    <tr>\n",
       "      <td id=\"T_5152e_row12_col0\" class=\"data row12 col0\" >Log File</td>\n",
       "      <td id=\"T_5152e_row12_col1\" class=\"data row12 col1\" >/tmp/fablib/fablib.log</td>\n",
       "    </tr>\n",
       "    <tr>\n",
       "      <td id=\"T_5152e_row13_col0\" class=\"data row13 col0\" >Bastion SSH Config File</td>\n",
       "      <td id=\"T_5152e_row13_col1\" class=\"data row13 col1\" >/Users/xinxinmei/.ssh/fabric_config</td>\n",
       "    </tr>\n",
       "    <tr>\n",
       "      <td id=\"T_5152e_row14_col0\" class=\"data row14 col0\" >Version</td>\n",
       "      <td id=\"T_5152e_row14_col1\" class=\"data row14 col1\" >1.8.1</td>\n",
       "    </tr>\n",
       "    <tr>\n",
       "      <td id=\"T_5152e_row15_col0\" class=\"data row15 col0\" >Data directory</td>\n",
       "      <td id=\"T_5152e_row15_col1\" class=\"data row15 col1\" >/tmp/fablib</td>\n",
       "    </tr>\n",
       "    <tr>\n",
       "      <td id=\"T_5152e_row16_col0\" class=\"data row16 col0\" >Core API</td>\n",
       "      <td id=\"T_5152e_row16_col1\" class=\"data row16 col1\" >uis.fabric-testbed.net</td>\n",
       "    </tr>\n",
       "    <tr>\n",
       "      <td id=\"T_5152e_row17_col0\" class=\"data row17 col0\" >Artifact Manager</td>\n",
       "      <td id=\"T_5152e_row17_col1\" class=\"data row17 col1\" >artifacts.fabric-testbed.net</td>\n",
       "    </tr>\n",
       "    <tr>\n",
       "      <td id=\"T_5152e_row18_col0\" class=\"data row18 col0\" >Project Name</td>\n",
       "      <td id=\"T_5152e_row18_col1\" class=\"data row18 col1\" >EJFAT</td>\n",
       "    </tr>\n",
       "  </tbody>\n",
       "</table>\n"
      ],
      "text/plain": [
       "<pandas.io.formats.style.Styler at 0x1139d57c0>"
      ]
     },
     "execution_count": 1,
     "metadata": {},
     "output_type": "execute_result"
    }
   ],
   "source": [
    "import json\n",
    "import traceback\n",
    "\n",
    "from fabrictestbed_extensions.fablib.fablib import FablibManager as fablib_manager\n",
    "\n",
    "# fablib = fablib_manager(fabric_rc=/path/to/fabric_rc)\n",
    "# If using Fabric Testbed Jupyter Hub, use the above line instead of the below\n",
    "fablib = fablib_manager(fabric_rc=\"/Users/xinxinmei/.ssh/fabric_rc\")     # path to local file \"fabric_rc\"\n",
    "                     \n",
    "fablib.show_config()"
   ]
  },
  {
   "cell_type": "markdown",
   "metadata": {
    "tags": []
   },
   "source": [
    "#### (Optional) Query Available Resources\n",
    "\n",
    "This optional command queries the FABRIC services to find the available resources. It may be useful for finding a site with available capacity."
   ]
  },
  {
   "cell_type": "code",
   "execution_count": null,
   "metadata": {
    "scrolled": true
   },
   "outputs": [],
   "source": [
    "try:\n",
    "    available_resources = fablib.get_available_resources()\n",
    "    print(f\"Available Resources: {available_resources}\")\n",
    "except Exception as e:\n",
    "    print(f\"Error: {e}\")"
   ]
  },
  {
   "cell_type": "markdown",
   "metadata": {
    "tags": []
   },
   "source": [
    "## Create the Experiment Slice"
   ]
  },
  {
   "cell_type": "code",
   "execution_count": 20,
   "metadata": {},
   "outputs": [],
   "source": [
    "# slice.delete()"
   ]
  },
  {
   "cell_type": "code",
   "execution_count": null,
   "metadata": {},
   "outputs": [
    {
     "name": "stdout",
     "output_type": "stream",
     "text": [
      "Site: UCSD\n",
      "Nodes: ['cpnode', 'wknode1']\n",
      "Submit request error: return_status Status.FAILURE, slice_reservations: (500)\n",
      "Reason: INTERNAL SERVER ERROR\n",
      "HTTP response headers: HTTPHeaderDict({'Server': 'nginx/1.21.6', 'Date': 'Thu, 06 Feb 2025 04:12:08 GMT', 'Content-Type': 'text/html; charset=utf-8', 'Content-Length': '208', 'Connection': 'keep-alive', 'Access-Control-Allow-Credentials': 'true', 'Access-Control-Allow-Headers': 'DNT, User-Agent, X-Requested-With, If-Modified-Since, Cache-Control, Content-Type, Range, Authorization', 'Access-Control-Allow-Methods': 'GET, POST, PUT, PATCH, DELETE, OPTIONS', 'Access-Control-Allow-Origin': '*', 'Access-Control-Expose-Headers': 'Content-Length, Content-Range, X-Error', 'X-Error': 'Slice K8s_on_FABRIC already exists'})\n",
      "HTTP response body: b'{\\n    \"errors\": [\\n        {\\n            \"details\": \"Slice K8s_on_FABRIC already exists\",\\n            \"message\": \"Internal Server Error\"\\n        }\\n    ],\\n    \"size\": 1,\\n    \"status\": 500,\\n    \"type\": \"error\"\\n}'\n",
      "\n"
     ]
    }
   ],
   "source": [
    "# Configuration variables\n",
    "slice_name = 'K8s_on_FABRIC'\n",
    "site = \"UCSD\"\n",
    "image = 'default_ubuntu_20'\n",
    "network_name = 'NET1'\n",
    "\n",
    "# Create lists for node configurations\n",
    "nic_names, node_names = [], []\n",
    "for i in range(1, 4):\n",
    "    if i == 1:\n",
    "        node_names.append(f\"cpnode\")\n",
    "        nic_names.append(f\"NIC1\")\n",
    "    else:\n",
    "        node_names.append(f\"wknode{i-1}\")\n",
    "        nic_names.append(f\"NIC{i}\")\n",
    "\n",
    "print(f\"Site: {site}\")\n",
    "print(f\"Nodes: {node_names}\")\n",
    "\n",
    "try:\n",
    "    # Create Slice\n",
    "    slice = fablib.new_slice(slice_name)\n",
    "    \n",
    "    # Add nodes and interfaces\n",
    "    nodes = []\n",
    "    ifaces = []\n",
    "    for i in range(len(node_names)):\n",
    "        node = slice.add_node(\n",
    "            name=node_names[i],\n",
    "            site=site,\n",
    "            image=image\n",
    "        )\n",
    "        nodes.append(node)\n",
    "        iface = node.add_component(\n",
    "            model='NIC_Basic', \n",
    "            name=nic_names[i]\n",
    "        ).get_interfaces()[0]\n",
    "        ifaces.append(iface)\n",
    "    \n",
    "    # Network\n",
    "    net1 = slice.add_l3network(\n",
    "        name=network_name, \n",
    "        interfaces=ifaces, \n",
    "        type='IPv4'\n",
    "    )\n",
    "    \n",
    "    # Submit Slice Request\n",
    "    slice_id = slice.submit()\n",
    "\n",
    "except Exception as e:\n",
    "    print(f\"{e}\")"
   ]
  },
  {
   "cell_type": "markdown",
   "metadata": {
    "tags": []
   },
   "source": [
    "### Print the Node's Attributes\n",
    "\n",
    "Each node in the slice has a set of get functions that return the node's attributes."
   ]
  },
  {
   "cell_type": "code",
   "execution_count": null,
   "metadata": {
    "scrolled": true
   },
   "outputs": [],
   "source": [
    "try:\n",
    "    slice = fablib.get_slice(slice_id=slice_id)\n",
    "    nodes = slice.get_nodes()\n",
    "    node_dict = {}\n",
    "    address_dict = {}\n",
    "    \n",
    "    # Create node and address variables\n",
    "    for i, node in enumerate(nodes, 1):\n",
    "        node_name = node_names[i-1]\n",
    "        node_dict[node_name] = node\n",
    "        globals()[node_name] = node\n",
    "        address_dict[f\"{node_name}_address\"] = None\n",
    "        globals()[f\"{node_name}_address\"] = None\n",
    "        print(f\"{node_name}: {node}\")\n",
    "\n",
    "    # Get network info\n",
    "    network = slice.get_network(name=network_name)\n",
    "    network_available_ips = network.get_available_ips()\n",
    "    print(f\"Network: {network}\")\n",
    "    \n",
    "    # Configure IPs for all nodes\n",
    "    for node_name in node_names:\n",
    "        node = node_dict[node_name]\n",
    "        node_iface = node.get_interface(network_name=network_name)\n",
    "        \n",
    "        # Assign and store IP address\n",
    "        node_address = network_available_ips.pop(0)\n",
    "        node_iface.ip_addr_add(addr=node_address, subnet=network.get_subnet())\n",
    "        address_dict[f\"{node_name}_address\"] = node_address\n",
    "        globals()[f\"{node_name}_address\"] = node_address\n",
    "        \n",
    "        # Print node config\n",
    "        print(f\"\\nConfiguration for {node_name}:\")\n",
    "        print(f\"Address assigned: {node_address}\")\n",
    "        stdout, _ = node.execute(f'ip addr show {node_iface.get_os_interface()}')\n",
    "        print(stdout)\n",
    "        stdout, _ = node.execute('ip route list')\n",
    "        print(stdout)\n",
    "\n",
    "    # Print summary\n",
    "    print(\"\\nNode and Address Summary:\")\n",
    "    for node_name in node_names:\n",
    "        print(f\"{node_name}: {globals()[node_name]}\")\n",
    "        print(f\"{node_name}_address: {globals()[f'{node_name}_address']}\")\n",
    "\n",
    "except Exception as e:\n",
    "    print(f\"Fail: {e}\")\n",
    "    traceback.print_exc()"
   ]
  },
  {
   "cell_type": "markdown",
   "metadata": {},
   "source": [
    "\n",
    "## Start the control plane\n",
    "We follow the instructions that we have here: https://github.com/apache/openwhisk-deploy-kube/blob/master/docs/k8s-diy-ubuntu.md"
   ]
  },
  {
   "cell_type": "code",
   "execution_count": null,
   "metadata": {
    "scrolled": true
   },
   "outputs": [],
   "source": [
    "try:\n",
    "    file_attributes = cpnode.upload_file(local_file_path=\"config_control_plane.sh\", remote_file_path=\"config_control_plane.sh\")\n",
    "    \n",
    "    stdout, stderr = cpnode.execute(f\"chmod +x config_control_plane.sh && ./config_control_plane.sh {network.get_subnet()} {cpnode_address}\")\n",
    "\n",
    "except Exception as e:\n",
    "    print(f\"Exception: {e}\")\n",
    " "
   ]
  },
  {
   "cell_type": "markdown",
   "metadata": {},
   "source": [
    "## Start the worker node\n",
    "Put the join command in the `join_cmd` variable. The command should look like this: ` kubeadm join <control-plane-ip>:6443 --token <token> --discovery-token-ca-cert-hash sha256:<hash>`"
   ]
  },
  {
   "cell_type": "code",
   "execution_count": null,
   "metadata": {
    "scrolled": true
   },
   "outputs": [],
   "source": [
    "join_cmd = \"sudo kubeadm join 10.146.4.2:6443 --token l255bp.wqi5i6br0jg7f4z2 --discovery-token-ca-cert-hash sha256:069646097e377bcd9e6d66ee7779a0d3e0930d95d1e6a79f73f22f70b1098b5e\"\n",
    "\n",
    "try:\n",
    "    # Loop through worker nodes in node_dict\n",
    "    for node_name, node in node_dict.items():\n",
    "        if node_name == 'cpnode':  # Skip control plane node\n",
    "            continue\n",
    "            \n",
    "        print(f\"\\nConfiguring {node_name}...\")\n",
    "        \n",
    "        # Upload and execute config script\n",
    "        try:\n",
    "            print(f\"Uploading and executing config_worker_node.sh on {node_name}...\")\n",
    "            file_attributes = node.upload_file(\n",
    "                local_file_path=\"config_worker_node.sh\", \n",
    "                remote_file_path=\"config_worker_node.sh\"\n",
    "            )\n",
    "            exec_cmd = f\"chmod +x config_worker_node.sh && ./config_worker_node.sh {join_cmd}\"\n",
    "            stdout, stderr = node.execute(exec_cmd)\n",
    "            print(f\"Config output for {node_name}:\", stdout)\n",
    "        except Exception as e:\n",
    "            print(f\"Failed to configure {node_name}: {e}\")\n",
    "            continue  # Skip to next node if configuration fails\n",
    "\n",
    "except Exception as e:\n",
    "    print(f\"Main exception: {e}\")\n",
    "    traceback.print_exc()"
   ]
  },
  {
   "cell_type": "markdown",
   "metadata": {},
   "source": [
    "## Monitor the kubernetes cluster"
   ]
  },
  {
   "cell_type": "code",
   "execution_count": null,
   "metadata": {},
   "outputs": [],
   "source": [
    "try:\n",
    "    # Get nodes\n",
    "    print(\"Getting nodes...\")\n",
    "    stdout, stderr = cpnode.execute(\"kubectl get nodes\")\n",
    "    print(f\"Nodes:\\n{stdout}\")\n",
    "    if stderr:\n",
    "        print(f\"Stderr: {stderr}\")\n",
    "\n",
    "    # Get all resources across namespaces\n",
    "    print(\"Getting all kubernetes resources...\")\n",
    "    stdout, stderr = cpnode.execute(\"kubectl get all --all-namespaces\")\n",
    "    print(f\"All resources:\\n{stdout}\")\n",
    "    if stderr:\n",
    "        print(f\"Stderr: {stderr}\")\n",
    "    \n",
    "    # Get all pods with more details\n",
    "    print(\"\\nGetting detailed pods status across all namespaces...\")\n",
    "    stdout, stderr = cpnode.execute(\"kubectl get pods -A -o wide\")\n",
    "    print(f\"Detailed pods status:\\n{stdout}\")\n",
    "    if stderr:\n",
    "        print(f\"Stderr: {stderr}\")\n",
    "        \n",
    "    # Describe kube-system namespace pods\n",
    "    print(\"\\nDescribing kube-system pods...\")\n",
    "    stdout, stderr = cpnode.execute(\"kubectl describe pods -n kube-system\")\n",
    "    print(f\"Kube-system pods details:\\n{stdout}\")\n",
    "    if stderr:\n",
    "        print(f\"Stderr: {stderr}\")\n",
    "    \n",
    "    # Get logs from specific system pods\n",
    "    system_components = ['kube-apiserver', 'kube-controller-manager', 'kube-scheduler', 'etcd']\n",
    "    \n",
    "    for component in system_components:\n",
    "        print(f\"\\nGetting logs for {component}...\")\n",
    "        try:\n",
    "            # First get the pod name\n",
    "            cmd = f\"kubectl get pods -n kube-system -l component={component} -o jsonpath='{{.items[0].metadata.name}}'\"\n",
    "            stdout, stderr = cpnode.execute(cmd)\n",
    "            if stdout:\n",
    "                pod_name = stdout.strip()\n",
    "                # Then get the logs\n",
    "                stdout, stderr = cpnode.execute(f\"kubectl logs -n kube-system {pod_name} --tail=50\")\n",
    "                print(f\"Logs from {component} ({pod_name}):\\n{stdout}\")\n",
    "            else:\n",
    "                print(f\"No pod found for component {component}\")\n",
    "        except Exception as e:\n",
    "            print(f\"Error getting logs for {component}: {e}\")\n",
    "\n",
    "except Exception as e:\n",
    "    print(f\"Exception while monitoring kubernetes cluster: {e}\")\n",
    "    traceback.print_exc()\n",
    "\n"
   ]
  },
  {
   "cell_type": "markdown",
   "metadata": {},
   "source": [
    "## Node has successfully joined the cluster.\n",
    "\n",
    "# Deploying a hello world application."
   ]
  },
  {
   "cell_type": "markdown",
   "metadata": {},
   "source": [
    "## First, we pull a hello world image and create a \"deployment\"."
   ]
  },
  {
   "cell_type": "code",
   "execution_count": null,
   "metadata": {},
   "outputs": [],
   "source": [
    "try:\n",
    "    stdout, stderr = cpnode.execute(\"kubectl create deployment kubernetes-bootcamp --image=gcr.io/google-samples/kubernetes-bootcamp:v1 --replicas=9\")\n",
    "    print(f\"stdout: {stdout}\")\n",
    "    print(f\"stderr: {stderr}\")\n",
    "except Exception as e:\n",
    "    print(f\"Exception: {e}\")\n",
    " "
   ]
  },
  {
   "cell_type": "markdown",
   "metadata": {},
   "source": [
    "## Now let's do some status commands."
   ]
  },
  {
   "cell_type": "code",
   "execution_count": null,
   "metadata": {},
   "outputs": [],
   "source": [
    "try:\n",
    "    _, stderr = cpnode.execute(\"kubectl get pods\")\n",
    "    print(f\"stderr: {stderr}\")\n",
    "except Exception as e:\n",
    "    print(f\"Exception: {e}\")"
   ]
  },
  {
   "cell_type": "markdown",
   "metadata": {},
   "source": [
    "## Pick the correct pod name and run the command below."
   ]
  },
  {
   "cell_type": "code",
   "execution_count": null,
   "metadata": {
    "scrolled": true
   },
   "outputs": [],
   "source": [
    "\n",
    "try:\n",
    "    _, stderr = cpnode.execute(\"kubectl describe pod kubernetes-bootcamp-68cfbdbb99-d67sb\")\n",
    "    print(f\"stderr: {stderr}\")\n",
    "except Exception as e:\n",
    "    print(f\"Exception: {e}\")"
   ]
  },
  {
   "cell_type": "markdown",
   "metadata": {},
   "source": [
    "## The next thing we need to do is to create what is called a \"service\".\n",
    "\n",
    "We are going to use it to expose the deployment to the outside, through a port, which is 8080. Like this:\n",
    "\n",
    "Note that the service itself will still need to be exposed. There's another \"expose\" step that we need to make."
   ]
  },
  {
   "cell_type": "code",
   "execution_count": null,
   "metadata": {},
   "outputs": [],
   "source": [
    "try:\n",
    "    _, stderr = cpnode.execute('kubectl expose deployment/kubernetes-bootcamp --type=\"ClusterIP\" --port 8080')\n",
    "    print(f\"stderr: {stderr}\")\n",
    "except Exception as e:\n",
    "    print(f\"Exception: {e}\")"
   ]
  },
  {
   "cell_type": "markdown",
   "metadata": {},
   "source": [
    "## Let's check if the service was created."
   ]
  },
  {
   "cell_type": "code",
   "execution_count": null,
   "metadata": {},
   "outputs": [],
   "source": [
    "try:\n",
    "    _, stderr = cpnode.execute(\"kubectl get service kubernetes-bootcamp\")\n",
    "    print(f\"stderr: {stderr}\")\n",
    "except Exception as e:\n",
    "    print(f\"Exception: {e}\")"
   ]
  },
  {
   "cell_type": "markdown",
   "metadata": {},
   "source": [
    "## Finally, we need to run a port forwarding command in order to expose the service to the outside.\n",
    "\n",
    "Modify the --address flag. Use the \"CLUSTER-IP\" that is output form the command above."
   ]
  },
  {
   "cell_type": "code",
   "execution_count": null,
   "metadata": {},
   "outputs": [],
   "source": [
    "try:\n",
    "    _, stderr = cpnode.execute(\"kubectl port-forward --address 10.111.180.18 service/kubernetes-bootcamp 8080:8080 > /dev/null 2>&1 &\")\n",
    "    print(f\"stderr: {stderr}\")\n",
    "except Exception as e:\n",
    "    print(f\"Exception: {e}\")"
   ]
  },
  {
   "cell_type": "markdown",
   "metadata": {},
   "source": [
    "## Now our application should finally be visible. Let's test the deployment on the control plane machine itself."
   ]
  },
  {
   "cell_type": "code",
   "execution_count": null,
   "metadata": {},
   "outputs": [],
   "source": [
    "try:\n",
    "    _, stderr = cpnode.execute(\"curl 10.111.180.18:8080\")\n",
    "    print(f\"stderr: {stderr}\")\n",
    "except Exception as e:\n",
    "    print(f\"Exception: {e}\")"
   ]
  },
  {
   "cell_type": "markdown",
   "metadata": {
    "tags": []
   },
   "source": [
    "## Delete Slice\n",
    "\n",
    "Please delete your slicd when you are done with your experiment."
   ]
  },
  {
   "cell_type": "code",
   "execution_count": null,
   "metadata": {},
   "outputs": [],
   "source": [
    "try:\n",
    "    slice = fablib.get_slice(slice_name)\n",
    "    slice.delete()\n",
    "except Exception as e:\n",
    "    print(f\"Fail: {e}\")"
   ]
  }
 ],
 "metadata": {
  "kernelspec": {
   "display_name": "fabric-tb",
   "language": "python",
   "name": "python3"
  },
  "language_info": {
   "codemirror_mode": {
    "name": "ipython",
    "version": 3
   },
   "file_extension": ".py",
   "mimetype": "text/x-python",
   "name": "python",
   "nbconvert_exporter": "python",
   "pygments_lexer": "ipython3",
   "version": "3.12.2"
  }
 },
 "nbformat": 4,
 "nbformat_minor": 4
}
