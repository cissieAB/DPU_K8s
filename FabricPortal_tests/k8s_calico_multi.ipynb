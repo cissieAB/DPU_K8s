{
 "cells": [
  {
   "cell_type": "markdown",
   "metadata": {},
   "source": [
    "# Setup a K8s Cluster with Calico\n",
    "\n",
    "The objective of this notebook is to setup a K8s cluster and a Calico CNI (container network interface) on the [Fabric Testbed](https://portal.fabric-testbed.net/) with the base OS as Ubuntu 22.04.\n",
    "\n",
    "It refers to the tutorials at:\n",
    "- [ChatGPT guide](https://docs.google.com/document/d/14d6HMI5jW8NLFe0K4Yx1_bO0DV44ynKMJYQe71ikX7c)\n",
    "- [Calico quickstart](https://docs.tigera.io/calico/latest/getting-started/kubernetes/quickstart)\n",
    "- [A video tutorial](https://youtu.be/k3iexxiYPI8)"
   ]
  },
  {
   "cell_type": "markdown",
   "metadata": {},
   "source": [
    "## Preamble: get a Fabric slice\n",
    "\n",
    "Our slice contains 3 nodes:\n",
    "1. The `cpnode` for the [K8s Control Plane](https://kubernetes.io/docs/concepts/overview/components/#control-plane-components).\n",
    "2. 2 worker nodes for the [K8s Node](https://kubernetes.io/docs/concepts/overview/components/#node-components): `wknode1`, `wknode2`."
   ]
  },
  {
   "cell_type": "markdown",
   "metadata": {},
   "source": [
    "### Define the node properties\n",
    "\n",
    "We configure a L2 network on Fabric so we can manually setup the IPv4 addresses."
   ]
  },
  {
   "cell_type": "code",
   "execution_count": 1,
   "metadata": {},
   "outputs": [],
   "source": [
    "# Define the network of the slice\n",
    "FABRIC_NIC_STR = 'NIC_Basic'  # do not update\n",
    "FABRIC_SUBNET_STR = \"192.168.0.0/24\"  # so the node IPs would be 192.168.0.1-10\n",
    "FABRIC_L2NET_STR = 'site_bridge_net'  # do not update"
   ]
  },
  {
   "cell_type": "markdown",
   "metadata": {},
   "source": [
    "We need extra storage for the `cpnode`."
   ]
  },
  {
   "cell_type": "code",
   "execution_count": 2,
   "metadata": {},
   "outputs": [],
   "source": [
    "# Define the nodes of the slice\n",
    "node_config = {\n",
    "    'cpnode': {\n",
    "        'ip':'192.168.0.1',\n",
    "        'cores': 8,\n",
    "        'ram': 24,\n",
    "        'disk': 100 },\n",
    "    'wknode1': {\n",
    "        'ip':'192.168.0.2',\n",
    "    },\n",
    "    'wknode2': {\n",
    "        'ip':'192.168.0.3',\n",
    "    },\n",
    "}"
   ]
  },
  {
   "cell_type": "markdown",
   "metadata": {},
   "source": [
    "### Fabric headers and helper funtions"
   ]
  },
  {
   "cell_type": "code",
   "execution_count": 3,
   "metadata": {},
   "outputs": [
    {
     "data": {
      "text/html": [
       "<style type=\"text/css\">\n",
       "#T_14065 tr:nth-child(even) {\n",
       "  background: #dbf3ff;\n",
       "  color: #231f20;\n",
       "}\n",
       "#T_14065 tr:nth-child(odd) {\n",
       "  background: #ffffff;\n",
       "  color: #231f20;\n",
       "}\n",
       "#T_14065 caption {\n",
       "  text-align: center;\n",
       "  font-size: 150%;\n",
       "}\n",
       "#T_14065_row0_col0, #T_14065_row0_col1, #T_14065_row1_col0, #T_14065_row1_col1, #T_14065_row2_col0, #T_14065_row2_col1, #T_14065_row3_col0, #T_14065_row3_col1, #T_14065_row4_col0, #T_14065_row4_col1, #T_14065_row5_col0, #T_14065_row5_col1, #T_14065_row6_col0, #T_14065_row6_col1, #T_14065_row7_col0, #T_14065_row7_col1, #T_14065_row8_col0, #T_14065_row8_col1, #T_14065_row9_col0, #T_14065_row9_col1, #T_14065_row10_col0, #T_14065_row10_col1, #T_14065_row11_col0, #T_14065_row11_col1, #T_14065_row12_col0, #T_14065_row12_col1, #T_14065_row13_col0, #T_14065_row13_col1, #T_14065_row14_col0, #T_14065_row14_col1, #T_14065_row15_col0, #T_14065_row15_col1, #T_14065_row16_col0, #T_14065_row16_col1, #T_14065_row17_col0, #T_14065_row17_col1, #T_14065_row18_col0, #T_14065_row18_col1 {\n",
       "  text-align: left;\n",
       "  border: 1px #231f20 solid !important;\n",
       "  overwrite: False;\n",
       "}\n",
       "</style>\n",
       "<table id=\"T_14065\">\n",
       "  <caption>FABlib Config</caption>\n",
       "  <thead>\n",
       "  </thead>\n",
       "  <tbody>\n",
       "    <tr>\n",
       "      <td id=\"T_14065_row0_col0\" class=\"data row0 col0\" >Orchestrator</td>\n",
       "      <td id=\"T_14065_row0_col1\" class=\"data row0 col1\" >orchestrator.fabric-testbed.net</td>\n",
       "    </tr>\n",
       "    <tr>\n",
       "      <td id=\"T_14065_row1_col0\" class=\"data row1 col0\" >Credential Manager</td>\n",
       "      <td id=\"T_14065_row1_col1\" class=\"data row1 col1\" >cm.fabric-testbed.net</td>\n",
       "    </tr>\n",
       "    <tr>\n",
       "      <td id=\"T_14065_row2_col0\" class=\"data row2 col0\" >Core API</td>\n",
       "      <td id=\"T_14065_row2_col1\" class=\"data row2 col1\" >uis.fabric-testbed.net</td>\n",
       "    </tr>\n",
       "    <tr>\n",
       "      <td id=\"T_14065_row3_col0\" class=\"data row3 col0\" >Token File</td>\n",
       "      <td id=\"T_14065_row3_col1\" class=\"data row3 col1\" >/home/fabric/.tokens.json</td>\n",
       "    </tr>\n",
       "    <tr>\n",
       "      <td id=\"T_14065_row4_col0\" class=\"data row4 col0\" >Project ID</td>\n",
       "      <td id=\"T_14065_row4_col1\" class=\"data row4 col1\" >bbe0d94c-736b-477a-a2e6-fef9fe7ac9ca</td>\n",
       "    </tr>\n",
       "    <tr>\n",
       "      <td id=\"T_14065_row5_col0\" class=\"data row5 col0\" >Bastion Host</td>\n",
       "      <td id=\"T_14065_row5_col1\" class=\"data row5 col1\" >bastion.fabric-testbed.net</td>\n",
       "    </tr>\n",
       "    <tr>\n",
       "      <td id=\"T_14065_row6_col0\" class=\"data row6 col0\" >Bastion Username</td>\n",
       "      <td id=\"T_14065_row6_col1\" class=\"data row6 col1\" >xmei_0000124604</td>\n",
       "    </tr>\n",
       "    <tr>\n",
       "      <td id=\"T_14065_row7_col0\" class=\"data row7 col0\" >Bastion Private Key File</td>\n",
       "      <td id=\"T_14065_row7_col1\" class=\"data row7 col1\" >/home/fabric/work/fabric_config/fabric-bastion-key</td>\n",
       "    </tr>\n",
       "    <tr>\n",
       "      <td id=\"T_14065_row8_col0\" class=\"data row8 col0\" >Slice Public Key File</td>\n",
       "      <td id=\"T_14065_row8_col1\" class=\"data row8 col1\" >/home/fabric/work/fabric_config/slice_key.pub</td>\n",
       "    </tr>\n",
       "    <tr>\n",
       "      <td id=\"T_14065_row9_col0\" class=\"data row9 col0\" >Slice Private Key File</td>\n",
       "      <td id=\"T_14065_row9_col1\" class=\"data row9 col1\" >/home/fabric/work/fabric_config/slice_key</td>\n",
       "    </tr>\n",
       "    <tr>\n",
       "      <td id=\"T_14065_row10_col0\" class=\"data row10 col0\" >Sites to avoid</td>\n",
       "      <td id=\"T_14065_row10_col1\" class=\"data row10 col1\" ></td>\n",
       "    </tr>\n",
       "    <tr>\n",
       "      <td id=\"T_14065_row11_col0\" class=\"data row11 col0\" >SSH Command Line</td>\n",
       "      <td id=\"T_14065_row11_col1\" class=\"data row11 col1\" >ssh -i {{ _self_.private_ssh_key_file }} -F /home/fabric/work/fabric_config/ssh_config {{ _self_.username }}@{{ _self_.management_ip }}</td>\n",
       "    </tr>\n",
       "    <tr>\n",
       "      <td id=\"T_14065_row12_col0\" class=\"data row12 col0\" >Log Level</td>\n",
       "      <td id=\"T_14065_row12_col1\" class=\"data row12 col1\" >INFO</td>\n",
       "    </tr>\n",
       "    <tr>\n",
       "      <td id=\"T_14065_row13_col0\" class=\"data row13 col0\" >Log File</td>\n",
       "      <td id=\"T_14065_row13_col1\" class=\"data row13 col1\" >/tmp/fablib/fablib.log</td>\n",
       "    </tr>\n",
       "    <tr>\n",
       "      <td id=\"T_14065_row14_col0\" class=\"data row14 col0\" >Bastion SSH Config File</td>\n",
       "      <td id=\"T_14065_row14_col1\" class=\"data row14 col1\" >/home/fabric/work/fabric_config/ssh_config</td>\n",
       "    </tr>\n",
       "    <tr>\n",
       "      <td id=\"T_14065_row15_col0\" class=\"data row15 col0\" >Version</td>\n",
       "      <td id=\"T_14065_row15_col1\" class=\"data row15 col1\" >1.8.0</td>\n",
       "    </tr>\n",
       "    <tr>\n",
       "      <td id=\"T_14065_row16_col0\" class=\"data row16 col0\" >Data directory</td>\n",
       "      <td id=\"T_14065_row16_col1\" class=\"data row16 col1\" >/tmp/fablib</td>\n",
       "    </tr>\n",
       "    <tr>\n",
       "      <td id=\"T_14065_row17_col0\" class=\"data row17 col0\" >Artifact Manager</td>\n",
       "      <td id=\"T_14065_row17_col1\" class=\"data row17 col1\" >artifacts.fabric-testbed.net</td>\n",
       "    </tr>\n",
       "    <tr>\n",
       "      <td id=\"T_14065_row18_col0\" class=\"data row18 col0\" >Project Name</td>\n",
       "      <td id=\"T_14065_row18_col1\" class=\"data row18 col1\" >EJFAT</td>\n",
       "    </tr>\n",
       "  </tbody>\n",
       "</table>\n"
      ],
      "text/plain": [
       "<pandas.io.formats.style.Styler at 0x7c291bde22d0>"
      ]
     },
     "metadata": {},
     "output_type": "display_data"
    },
    {
     "data": {
      "text/html": [
       "<style type=\"text/css\">\n",
       "#T_14065 tr:nth-child(even) {\n",
       "  background: #dbf3ff;\n",
       "  color: #231f20;\n",
       "}\n",
       "#T_14065 tr:nth-child(odd) {\n",
       "  background: #ffffff;\n",
       "  color: #231f20;\n",
       "}\n",
       "#T_14065 caption {\n",
       "  text-align: center;\n",
       "  font-size: 150%;\n",
       "}\n",
       "#T_14065_row0_col0, #T_14065_row0_col1, #T_14065_row1_col0, #T_14065_row1_col1, #T_14065_row2_col0, #T_14065_row2_col1, #T_14065_row3_col0, #T_14065_row3_col1, #T_14065_row4_col0, #T_14065_row4_col1, #T_14065_row5_col0, #T_14065_row5_col1, #T_14065_row6_col0, #T_14065_row6_col1, #T_14065_row7_col0, #T_14065_row7_col1, #T_14065_row8_col0, #T_14065_row8_col1, #T_14065_row9_col0, #T_14065_row9_col1, #T_14065_row10_col0, #T_14065_row10_col1, #T_14065_row11_col0, #T_14065_row11_col1, #T_14065_row12_col0, #T_14065_row12_col1, #T_14065_row13_col0, #T_14065_row13_col1, #T_14065_row14_col0, #T_14065_row14_col1, #T_14065_row15_col0, #T_14065_row15_col1, #T_14065_row16_col0, #T_14065_row16_col1, #T_14065_row17_col0, #T_14065_row17_col1, #T_14065_row18_col0, #T_14065_row18_col1 {\n",
       "  text-align: left;\n",
       "  border: 1px #231f20 solid !important;\n",
       "  overwrite: False;\n",
       "}\n",
       "</style>\n",
       "<table id=\"T_14065\">\n",
       "  <caption>FABlib Config</caption>\n",
       "  <thead>\n",
       "  </thead>\n",
       "  <tbody>\n",
       "    <tr>\n",
       "      <td id=\"T_14065_row0_col0\" class=\"data row0 col0\" >Orchestrator</td>\n",
       "      <td id=\"T_14065_row0_col1\" class=\"data row0 col1\" >orchestrator.fabric-testbed.net</td>\n",
       "    </tr>\n",
       "    <tr>\n",
       "      <td id=\"T_14065_row1_col0\" class=\"data row1 col0\" >Credential Manager</td>\n",
       "      <td id=\"T_14065_row1_col1\" class=\"data row1 col1\" >cm.fabric-testbed.net</td>\n",
       "    </tr>\n",
       "    <tr>\n",
       "      <td id=\"T_14065_row2_col0\" class=\"data row2 col0\" >Core API</td>\n",
       "      <td id=\"T_14065_row2_col1\" class=\"data row2 col1\" >uis.fabric-testbed.net</td>\n",
       "    </tr>\n",
       "    <tr>\n",
       "      <td id=\"T_14065_row3_col0\" class=\"data row3 col0\" >Token File</td>\n",
       "      <td id=\"T_14065_row3_col1\" class=\"data row3 col1\" >/home/fabric/.tokens.json</td>\n",
       "    </tr>\n",
       "    <tr>\n",
       "      <td id=\"T_14065_row4_col0\" class=\"data row4 col0\" >Project ID</td>\n",
       "      <td id=\"T_14065_row4_col1\" class=\"data row4 col1\" >bbe0d94c-736b-477a-a2e6-fef9fe7ac9ca</td>\n",
       "    </tr>\n",
       "    <tr>\n",
       "      <td id=\"T_14065_row5_col0\" class=\"data row5 col0\" >Bastion Host</td>\n",
       "      <td id=\"T_14065_row5_col1\" class=\"data row5 col1\" >bastion.fabric-testbed.net</td>\n",
       "    </tr>\n",
       "    <tr>\n",
       "      <td id=\"T_14065_row6_col0\" class=\"data row6 col0\" >Bastion Username</td>\n",
       "      <td id=\"T_14065_row6_col1\" class=\"data row6 col1\" >xmei_0000124604</td>\n",
       "    </tr>\n",
       "    <tr>\n",
       "      <td id=\"T_14065_row7_col0\" class=\"data row7 col0\" >Bastion Private Key File</td>\n",
       "      <td id=\"T_14065_row7_col1\" class=\"data row7 col1\" >/home/fabric/work/fabric_config/fabric-bastion-key</td>\n",
       "    </tr>\n",
       "    <tr>\n",
       "      <td id=\"T_14065_row8_col0\" class=\"data row8 col0\" >Slice Public Key File</td>\n",
       "      <td id=\"T_14065_row8_col1\" class=\"data row8 col1\" >/home/fabric/work/fabric_config/slice_key.pub</td>\n",
       "    </tr>\n",
       "    <tr>\n",
       "      <td id=\"T_14065_row9_col0\" class=\"data row9 col0\" >Slice Private Key File</td>\n",
       "      <td id=\"T_14065_row9_col1\" class=\"data row9 col1\" >/home/fabric/work/fabric_config/slice_key</td>\n",
       "    </tr>\n",
       "    <tr>\n",
       "      <td id=\"T_14065_row10_col0\" class=\"data row10 col0\" >Sites to avoid</td>\n",
       "      <td id=\"T_14065_row10_col1\" class=\"data row10 col1\" ></td>\n",
       "    </tr>\n",
       "    <tr>\n",
       "      <td id=\"T_14065_row11_col0\" class=\"data row11 col0\" >SSH Command Line</td>\n",
       "      <td id=\"T_14065_row11_col1\" class=\"data row11 col1\" >ssh -i {{ _self_.private_ssh_key_file }} -F /home/fabric/work/fabric_config/ssh_config {{ _self_.username }}@{{ _self_.management_ip }}</td>\n",
       "    </tr>\n",
       "    <tr>\n",
       "      <td id=\"T_14065_row12_col0\" class=\"data row12 col0\" >Log Level</td>\n",
       "      <td id=\"T_14065_row12_col1\" class=\"data row12 col1\" >INFO</td>\n",
       "    </tr>\n",
       "    <tr>\n",
       "      <td id=\"T_14065_row13_col0\" class=\"data row13 col0\" >Log File</td>\n",
       "      <td id=\"T_14065_row13_col1\" class=\"data row13 col1\" >/tmp/fablib/fablib.log</td>\n",
       "    </tr>\n",
       "    <tr>\n",
       "      <td id=\"T_14065_row14_col0\" class=\"data row14 col0\" >Bastion SSH Config File</td>\n",
       "      <td id=\"T_14065_row14_col1\" class=\"data row14 col1\" >/home/fabric/work/fabric_config/ssh_config</td>\n",
       "    </tr>\n",
       "    <tr>\n",
       "      <td id=\"T_14065_row15_col0\" class=\"data row15 col0\" >Version</td>\n",
       "      <td id=\"T_14065_row15_col1\" class=\"data row15 col1\" >1.8.0</td>\n",
       "    </tr>\n",
       "    <tr>\n",
       "      <td id=\"T_14065_row16_col0\" class=\"data row16 col0\" >Data directory</td>\n",
       "      <td id=\"T_14065_row16_col1\" class=\"data row16 col1\" >/tmp/fablib</td>\n",
       "    </tr>\n",
       "    <tr>\n",
       "      <td id=\"T_14065_row17_col0\" class=\"data row17 col0\" >Artifact Manager</td>\n",
       "      <td id=\"T_14065_row17_col1\" class=\"data row17 col1\" >artifacts.fabric-testbed.net</td>\n",
       "    </tr>\n",
       "    <tr>\n",
       "      <td id=\"T_14065_row18_col0\" class=\"data row18 col0\" >Project Name</td>\n",
       "      <td id=\"T_14065_row18_col1\" class=\"data row18 col1\" >EJFAT</td>\n",
       "    </tr>\n",
       "  </tbody>\n",
       "</table>\n"
      ],
      "text/plain": [
       "<pandas.io.formats.style.Styler at 0x7c291bde22d0>"
      ]
     },
     "execution_count": 3,
     "metadata": {},
     "output_type": "execute_result"
    }
   ],
   "source": [
    "from datetime import datetime\n",
    "from datetime import timezone\n",
    "from datetime import timedelta\n",
    "\n",
    "from fabrictestbed_extensions.fablib.fablib import FablibManager as fablib_manager\n",
    "\n",
    "from ipaddress import ip_address, IPv4Address, IPv6Address, IPv4Network, IPv6Network\n",
    "import ipaddress\n",
    "\n",
    "import json\n",
    "\n",
    "fablib = fablib_manager()\n",
    "fablib.show_config()"
   ]
  },
  {
   "cell_type": "markdown",
   "metadata": {},
   "source": [
    "\n",
    "Choose the Fabric sites with IPv4 addresses only, such as TOKY and UCSD."
   ]
  },
  {
   "cell_type": "code",
   "execution_count": 4,
   "metadata": {},
   "outputs": [],
   "source": [
    "FABRIC_SITE_OVERRIDE = \"TOKY\"   # or UCSD, the sites with IPv4 addresses only\n",
    "FABRIC_SLICENAME_PREFIX = 'k8s_calico_'\n",
    "FABRIC_OS_STR = 'default_ubuntu_22'\n",
    "\n",
    "# Define the Fabric slice name with user_id as the suffix\n",
    "user_info = fablib.get_user_info()\n",
    "slice_name = FABRIC_SLICENAME_PREFIX + user_info['bastion_login']\n",
    "\n",
    "# Write selected site into node attributes\n",
    "for n in node_config:\n",
    "    node_config[n]['site'] = FABRIC_SITE_OVERRIDE\n",
    "    node_config[n]['image'] = FABRIC_OS_STR"
   ]
  },
  {
   "cell_type": "markdown",
   "metadata": {},
   "source": [
    "Build the Fabric slice."
   ]
  },
  {
   "cell_type": "code",
   "execution_count": 5,
   "metadata": {},
   "outputs": [],
   "source": [
    "slice = fablib.new_slice(name=slice_name)\n",
    "\n",
    "# Create the network\n",
    "net1 = slice.add_l2network(name=FABRIC_L2NET_STR, subnet=IPv4Network(FABRIC_SUBNET_STR))"
   ]
  },
  {
   "cell_type": "code",
   "execution_count": 6,
   "metadata": {},
   "outputs": [
    {
     "name": "stdout",
     "output_type": "stream",
     "text": [
      "node_name='cpnode', 192.168.0.1\n",
      "node_name='wknode1', 192.168.0.2\n",
      "node_name='wknode2', 192.168.0.3\n",
      "Creating a slice named \"k8s_calico_xmei_0000124604\" with nodes in TOKY\n"
     ]
    }
   ],
   "source": [
    "# Create nodes using subnet address assignment\n",
    "skip_keys = ['ip']\n",
    "nodes = dict()\n",
    "\n",
    "for node_name, node_attr in node_config.items():\n",
    "    print(f\"{node_name=}, {node_attr['ip']}\")\n",
    "    nodes[node_name] = slice.add_node(\n",
    "        name=node_name,\n",
    "        **{x: node_attr[x] for x in node_attr if x not in skip_keys}\n",
    "    )\n",
    "    nic_interface = nodes[node_name].add_component(\n",
    "        model=FABRIC_NIC_STR,\n",
    "        name='_'.join([node_name, FABRIC_NIC_STR, 'nic'])\n",
    "    ).get_interfaces()[0]\n",
    "    net1.add_interface(nic_interface)\n",
    "    nic_interface.set_mode('config')\n",
    "    nic_interface.set_ip_addr(node_attr['ip'])\n",
    "\n",
    "print(f'Creating a slice named \"{slice_name}\" with nodes in {FABRIC_SITE_OVERRIDE}')"
   ]
  }
 ],
 "metadata": {
  "kernelspec": {
   "display_name": "Python 3 (ipykernel)",
   "language": "python",
   "name": "python3"
  },
  "language_info": {
   "codemirror_mode": {
    "name": "ipython",
    "version": 3
   },
   "file_extension": ".py",
   "mimetype": "text/x-python",
   "name": "python",
   "nbconvert_exporter": "python",
   "pygments_lexer": "ipython3",
   "version": "3.11.9"
  }
 },
 "nbformat": 4,
 "nbformat_minor": 4
}
