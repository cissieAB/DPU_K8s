{
 "cells": [
  {
   "cell_type": "markdown",
   "metadata": {},
   "source": [
    "# Setup a K8s Cluster with Calico\n",
    "\n",
    "The objective of this notebook is to setup a K8s cluster and a Calico CNI (container network interface) on the [Fabric Testbed](https://portal.fabric-testbed.net/) with the base OS as Ubuntu 22.04.\n",
    "\n",
    "It refers to the tutorials at:\n",
    "- [ChatGPT guide](https://docs.google.com/document/d/14d6HMI5jW8NLFe0K4Yx1_bO0DV44ynKMJYQe71ikX7c)\n",
    "- [Calico quickstart](https://docs.tigera.io/calico/latest/getting-started/kubernetes/quickstart)\n",
    "- [A video tutorial](https://youtu.be/k3iexxiYPI8)"
   ]
  },
  {
   "cell_type": "markdown",
   "metadata": {},
   "source": [
    "## Preamble: get a Fabric slice\n",
    "\n",
    "Our slice contains 3 nodes:\n",
    "1. The `cpnode` for the [K8s Control Plane](https://kubernetes.io/docs/concepts/overview/components/#control-plane-components).\n",
    "2. 2 worker nodes for the [K8s Node](https://kubernetes.io/docs/concepts/overview/components/#node-components): `wknode1`, `wknode2`."
   ]
  },
  {
   "cell_type": "markdown",
   "metadata": {},
   "source": [
    "### Define the node properties\n",
    "\n",
    "We configure a L2 network on Fabric so we can manually setup the IPv4 addresses."
   ]
  },
  {
   "cell_type": "code",
   "execution_count": 1,
   "metadata": {},
   "outputs": [],
   "source": [
    "# Define the network of the slice\n",
    "FABRIC_NIC_STR = 'NIC_Basic'  # do not update\n",
    "FABRIC_SUBNET_STR = \"192.168.0.0/24\"  # so the node IPs would be 192.168.0.1-10\n",
    "FABRIC_L2NET_STR = 'site_bridge_net'  # do not update"
   ]
  },
  {
   "cell_type": "markdown",
   "metadata": {},
   "source": [
    "We need extra storage for the `cpnode`."
   ]
  },
  {
   "cell_type": "code",
   "execution_count": 2,
   "metadata": {},
   "outputs": [],
   "source": [
    "# Define the nodes of the slice\n",
    "node_config = {\n",
    "    'cpnode': {\n",
    "        'ip':'192.168.0.1',\n",
    "        'cores': 8,\n",
    "        'ram': 24,\n",
    "        'disk': 100 },\n",
    "    'wknode1': {\n",
    "        'ip':'192.168.0.2',\n",
    "    },\n",
    "    'wknode2': {\n",
    "        'ip':'192.168.0.3',\n",
    "    },\n",
    "}"
   ]
  },
  {
   "cell_type": "markdown",
   "metadata": {},
   "source": [
    "### Fabric headers and helper funtions"
   ]
  },
  {
   "cell_type": "code",
   "execution_count": null,
   "metadata": {},
   "outputs": [],
   "source": [
    "from datetime import datetime\n",
    "from datetime import timezone\n",
    "from datetime import timedelta\n",
    "\n",
    "from fabrictestbed_extensions.fablib.fablib import FablibManager as fablib_manager\n",
    "\n",
    "from ipaddress import ip_address, IPv4Address, IPv6Address, IPv4Network, IPv6Network\n",
    "import ipaddress\n",
    "\n",
    "import json\n",
    "\n",
    "fablib = fablib_manager()\n",
    "fablib.show_config()"
   ]
  },
  {
   "cell_type": "markdown",
   "metadata": {},
   "source": [
    "\n",
    "Choose the Fabric sites with IPv4 addresses only, such as TOKY and UCSD."
   ]
  },
  {
   "cell_type": "code",
   "execution_count": null,
   "metadata": {},
   "outputs": [],
   "source": [
    "FABRIC_SITE_OVERRIDE = \"TOKY\"   # or UCSD, the sites with IPv4 addresses only\n",
    "FABRIC_SLICENAME_PREFIX = 'k8s_calico_'\n",
    "FABRIC_OS_STR = 'default_ubuntu_22'\n",
    "\n",
    "# Define the Fabric slice name with user_id as the suffix\n",
    "user_info = fablib.get_user_info()\n",
    "slice_name = FABRIC_SLICENAME_PREFIX + user_info['bastion_login']\n",
    "\n",
    "# Write selected site into node attributes\n",
    "for n in node_config:\n",
    "    node_config[n]['site'] = FABRIC_SITE_OVERRIDE\n",
    "    node_config[n]['image'] = FABRIC_OS_STR"
   ]
  },
  {
   "cell_type": "markdown",
   "metadata": {},
   "source": [
    "Build the Fabric slice."
   ]
  },
  {
   "cell_type": "code",
   "execution_count": null,
   "metadata": {},
   "outputs": [],
   "source": [
    "slice = fablib.new_slice(name=slice_name)\n",
    "\n",
    "# Create the network\n",
    "net1 = slice.add_l2network(name=FABRIC_L2NET_STR, subnet=IPv4Network(FABRIC_SUBNET_STR))"
   ]
  },
  {
   "cell_type": "code",
   "execution_count": null,
   "metadata": {},
   "outputs": [],
   "source": [
    "# Create nodes using subnet address assignment\n",
    "skip_keys = ['ip']\n",
    "nodes = dict()\n",
    "\n",
    "for node_name, node_attr in node_config.items():\n",
    "    print(f\"{node_name=}, {node_attr['ip']}\")\n",
    "    nodes[node_name] = slice.add_node(\n",
    "        name=node_name,\n",
    "        **{x: node_attr[x] for x in node_attr if x not in skip_keys}\n",
    "    )\n",
    "    nic_interface = nodes[node_name].add_component(\n",
    "        model=FABRIC_NIC_STR,\n",
    "        name='_'.join([node_name, FABRIC_NIC_STR, 'nic'])\n",
    "    ).get_interfaces()[0]\n",
    "    net1.add_interface(nic_interface)\n",
    "    nic_interface.set_mode('config')\n",
    "    nic_interface.set_ip_addr(node_attr['ip'])\n",
    "\n",
    "print(f'Creating a slice named \"{slice_name}\" with nodes in {FABRIC_SITE_OVERRIDE}')"
   ]
  }
 ],
 "metadata": {
  "kernelspec": {
   "display_name": "Python 3",
   "language": "python",
   "name": "python3"
  },
  "language_info": {
   "codemirror_mode": {
    "name": "ipython",
    "version": 3
   },
   "file_extension": ".py",
   "mimetype": "text/x-python",
   "name": "python",
   "nbconvert_exporter": "python",
   "pygments_lexer": "ipython3",
   "version": "3.11.9"
  }
 },
 "nbformat": 4,
 "nbformat_minor": 2
}
